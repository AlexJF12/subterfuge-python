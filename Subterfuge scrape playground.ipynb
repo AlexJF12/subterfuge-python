{
 "cells": [
  {
   "cell_type": "markdown",
   "metadata": {},
   "source": [
    "# SUBTERFUGE WEBSCRAPING"
   ]
  },
  {
   "cell_type": "code",
   "execution_count": 259,
   "metadata": {
    "collapsed": true
   },
   "outputs": [],
   "source": [
    "import pandas as pd\n",
    "import requests\n",
    "\n",
    "from bs4 import BeautifulSoup\n",
    "\n",
    "import datetime"
   ]
  },
  {
   "cell_type": "code",
   "execution_count": 260,
   "metadata": {},
   "outputs": [
    {
     "name": "stdout",
     "output_type": "stream",
     "text": [
      "200\n"
     ]
    }
   ],
   "source": [
    "url = 'http://subterfuge-game.com/leaderboards.html'\n",
    "\n",
    "response = requests.get(url)\n",
    "print response.status_code\n",
    "html = response.text\n",
    "soup = BeautifulSoup(html, 'lxml')"
   ]
  },
  {
   "cell_type": "code",
   "execution_count": 261,
   "metadata": {},
   "outputs": [],
   "source": [
    "table = soup.findAll('tr')"
   ]
  },
  {
   "cell_type": "code",
   "execution_count": 262,
   "metadata": {},
   "outputs": [],
   "source": [
    "elem_keep = [2, 4, 6, 8, 10, 12, 14, 16, 18, 20, 22, 24]\n",
    "\n",
    "rank = []\n",
    "player = []\n",
    "rating = []\n",
    "gold = []\n",
    "silver = []\n",
    "bronze = []\n",
    "rated_games = []\n",
    "total_games = []\n",
    "finished = []\n",
    "eliminated = []\n",
    "resigned = []\n",
    "joined = []\n",
    "\n",
    "for r in range(1, len(table)):\n",
    "    row = []\n",
    "    for k in elem_keep:\n",
    "        row.append(str(table[r]).split('>')[k][:-4])\n",
    "\n",
    "    rank.append(row[0])\n",
    "    player.append(row[1])\n",
    "    rating.append(row[2])\n",
    "    gold.append(row[3])\n",
    "    silver.append(row[4])\n",
    "    bronze.append(row[5])\n",
    "    rated_games.append(row[6])\n",
    "    total_games.append(row[7])\n",
    "    finished.append(row[8])\n",
    "    eliminated.append(row[9])\n",
    "    resigned.append(row[10])\n",
    "    joined.append(row[11])"
   ]
  },
  {
   "cell_type": "code",
   "execution_count": 263,
   "metadata": {},
   "outputs": [],
   "source": [
    "df = pd.DataFrame({\n",
    "    'rank':rank,\n",
    "    'player':player,\n",
    "    'rating':rating,\n",
    "    'gold':gold,\n",
    "    'silver':silver,\n",
    "    'bronze':bronze,\n",
    "    'rated_games':rated_games,\n",
    "    'total_games':total_games,\n",
    "    'finished':finished,\n",
    "    'eliminated':eliminated,\n",
    "    'resigned':resigned,\n",
    "    'joined':joined\n",
    "})\n",
    "\n",
    "cols = ['rank', 'player','rating','gold','silver','bronze',\n",
    "        'rated_games','total_games','finished','eliminated',\n",
    "        'resigned','joined']\n",
    "df = df[cols]"
   ]
  },
  {
   "cell_type": "code",
   "execution_count": 292,
   "metadata": {},
   "outputs": [],
   "source": [
    "df['date_scraped'] = datetime.date.today().strftime(\"%d %b %Y\")\n",
    "df['time_scraped'] = datetime.datetime.now().strftime(\"%H:%M\")"
   ]
  },
  {
   "cell_type": "code",
   "execution_count": 284,
   "metadata": {
    "collapsed": true
   },
   "outputs": [],
   "source": [
    "today = datetime.date.today().strftime(\"%d%b%Y\")\n",
    "df.to_csv('data/sub_' + str(today) + '.csv', index=False)"
   ]
  },
  {
   "cell_type": "code",
   "execution_count": null,
   "metadata": {
    "collapsed": true
   },
   "outputs": [],
   "source": []
  }
 ],
 "metadata": {
  "kernelspec": {
   "display_name": "Python 2",
   "language": "python",
   "name": "python2"
  },
  "language_info": {
   "codemirror_mode": {
    "name": "ipython",
    "version": 2
   },
   "file_extension": ".py",
   "mimetype": "text/x-python",
   "name": "python",
   "nbconvert_exporter": "python",
   "pygments_lexer": "ipython2",
   "version": "2.7.13"
  }
 },
 "nbformat": 4,
 "nbformat_minor": 2
}
